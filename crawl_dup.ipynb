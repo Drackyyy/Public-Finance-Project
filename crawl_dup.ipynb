{
 "cells": [
  {
   "cell_type": "code",
   "execution_count": 10,
   "metadata": {},
   "outputs": [],
   "source": [
    "# -*- coding: utf-8 -*-\n",
    "import requests\n",
    "import re\n",
    "from bs4 import BeautifulSoup as BS\n",
    "import pandas as pd\n",
    "import json\n",
    "from collections import Counter\n",
    "from urllib.error import HTTPError\n",
    "import numpy as np\n",
    "from tqdm import trange"
   ]
  },
  {
   "cell_type": "code",
   "execution_count": 11,
   "metadata": {},
   "outputs": [],
   "source": [
    "def regex(name):\n",
    "    if name == \"和田地区和田县\" or name == \"和田地区和田市\":\n",
    "        return name[-3:]\n",
    "    \n",
    "    name = name.strip()\n",
    "    name = name.strip('\\t')\n",
    "    special = ['城区','矿区','郊区'] ## with which patterns can only use exact match\n",
    "    for item in special:\n",
    "        if item in name:\n",
    "            return name\n",
    "    \n",
    "    with open('./ethicity.json','r') as f:\n",
    "        ethnicities = json.loads(f.read())\n",
    "    ethnicity = [item[\"name\"] for item in ethnicities] + [\"各族\"]\n",
    "\n",
    "    for eth in ethnicity:\n",
    "        if eth in name:\n",
    "            name = name.replace(eth,'')\n",
    "            \n",
    "    if '地区' in name:\n",
    "        name = [item for item in name.split(\"地区\") if len(item)>0][-1]\n",
    "    if '市' in name:\n",
    "        name = [item for item in name.split(\"市\") if len(item)>0][-1]\n",
    "    elif '自治州' in name:\n",
    "        name = [item for item in name.split(\"自治州\") if len(item)>0][-1]\n",
    "    \n",
    "    if len(name) > 2:\n",
    "        name = name.strip('区')\n",
    "        name = name.strip('旗')\n",
    "        name = name.strip('自治县')\n",
    "        name = name.strip('省')\n",
    "    \n",
    "    if len(name) > 2:\n",
    "        name = name.strip('县')\n",
    "        \n",
    "    return name"
   ]
  },
  {
   "cell_type": "code",
   "execution_count": 12,
   "metadata": {},
   "outputs": [],
   "source": [
    "All_data = pd.read_excel('./Alldata.xlsx',keep_default_na=False).drop(columns=['Unnamed: 0'],axis=1)\n",
    "indices = []\n",
    "for i in range(len(All_data)):\n",
    "    line = All_data.iloc[i]\n",
    "    indices.append((line['t'],regex(line['area'])))\n",
    "All_data['index'] = indices\n",
    "All_data['gov_report'] = ''\n",
    "All_data['stat_report'] = ''"
   ]
  },
  {
   "cell_type": "code",
   "execution_count": 13,
   "metadata": {},
   "outputs": [],
   "source": [
    "## crawl data in areas listed in indices\n",
    "def craw_and_write(web_path_root, to_be_matched_list = indices):\n",
    "    global All_data\n",
    "    if \"tongjigongbao\" in web_path_root:\n",
    "        entry = 'stat_report'\n",
    "    else:\n",
    "        entry = 'gov_report'\n",
    "    count_dict = {key:0 for key in to_be_matched_list}\n",
    "    \n",
    "    for i in trange(25000):\n",
    "        title, body = craw_single(f'{web_path_root}/{i}.html')\n",
    "        ## try matching\n",
    "        if title:\n",
    "            for k in range(len(to_be_matched_list)): ## item: (t, area)\n",
    "                item = to_be_matched_list[k]\n",
    "                if (str(item[0]) in title) and (item[1] in title): ## if matched\n",
    "                    print(item)\n",
    "                    All_data.loc[k,entry] = (title+'\\t'+body) ## data: (title, body)\n",
    "                    count_dict[item] += 1\n",
    "                    break\n",
    "        ## whether matched successfully, go to next\n",
    "        i += 1\n",
    "    return count_dict\n"
   ]
  },
  {
   "cell_type": "code",
   "execution_count": 14,
   "metadata": {},
   "outputs": [],
   "source": [
    "def craw_single(web_path):\n",
    "    r = requests.get(web_path).text.encode('ISO-8859-1').decode('gbk')\n",
    "    title = re.findall(r'<div class=\"title\"><h1>(.*?)</h1></div>',r)\n",
    "    if len(title) > 0: ## if not \"404 Not Found\" returned\n",
    "        title = title[0]\n",
    "        d = pd.read_html(web_path,flavor='bs4')\n",
    "        body = d[0][0].values[np.argmax([len(item) for item in d[0][0].values])]\n",
    "        j = 2\n",
    "        while True:\n",
    "            try:\n",
    "                e = pd.read_html(web_path[:-5]+f'_{j}'+'.html',flavor='bs4')\n",
    "                if len(e)>0:\n",
    "                    data_ = e[0][0].values[np.argmax([len(item) for item in e[0][0].values])]\n",
    "                    body = body + data_\n",
    "                j += 1\n",
    "            except HTTPError:\n",
    "                return (title, body)\n",
    "    else:\n",
    "        return None, None\n",
    "            \n",
    "    "
   ]
  },
  {
   "cell_type": "code",
   "execution_count": 15,
   "metadata": {},
   "outputs": [
    {
     "ename": "KeyboardInterrupt",
     "evalue": "",
     "output_type": "error",
     "traceback": [
      "\u001b[0;31m---------------------------------------------------------------------------\u001b[0m",
      "\u001b[0;31mKeyboardInterrupt\u001b[0m                         Traceback (most recent call last)",
      "\u001b[0;32m<ipython-input-15-c37c2a3d4dad>\u001b[0m in \u001b[0;36m<module>\u001b[0;34m\u001b[0m\n\u001b[1;32m      1\u001b[0m \u001b[0;31m## main ##\u001b[0m\u001b[0;34m\u001b[0m\u001b[0;34m\u001b[0m\u001b[0;34m\u001b[0m\u001b[0m\n\u001b[0;32m----> 2\u001b[0;31m \u001b[0mcount_dict\u001b[0m \u001b[0;34m=\u001b[0m \u001b[0mcraw_and_write\u001b[0m\u001b[0;34m(\u001b[0m\u001b[0;34m'https://www.ahmhxc.com/gongzuobaogao/'\u001b[0m\u001b[0;34m)\u001b[0m\u001b[0;34m\u001b[0m\u001b[0;34m\u001b[0m\u001b[0m\n\u001b[0m\u001b[1;32m      3\u001b[0m \u001b[0mAll_data\u001b[0m\u001b[0;34m.\u001b[0m\u001b[0mto_excel\u001b[0m\u001b[0;34m(\u001b[0m\u001b[0;34m'./WITH_GOV_REPORT.xlsx'\u001b[0m\u001b[0;34m)\u001b[0m\u001b[0;34m\u001b[0m\u001b[0;34m\u001b[0m\u001b[0m\n\u001b[1;32m      4\u001b[0m \u001b[0;32mwith\u001b[0m \u001b[0mopen\u001b[0m\u001b[0;34m(\u001b[0m\u001b[0;34m'./gov_report.json'\u001b[0m\u001b[0;34m,\u001b[0m\u001b[0;34m'w'\u001b[0m\u001b[0;34m)\u001b[0m \u001b[0;32mas\u001b[0m \u001b[0mg\u001b[0m\u001b[0;34m:\u001b[0m\u001b[0;34m\u001b[0m\u001b[0;34m\u001b[0m\u001b[0m\n\u001b[1;32m      5\u001b[0m     \u001b[0mjson\u001b[0m\u001b[0;34m.\u001b[0m\u001b[0mdump\u001b[0m\u001b[0;34m(\u001b[0m\u001b[0mcount_dict\u001b[0m\u001b[0;34m)\u001b[0m\u001b[0;34m\u001b[0m\u001b[0;34m\u001b[0m\u001b[0m\n",
      "\u001b[0;32m<ipython-input-13-633ad02a4e83>\u001b[0m in \u001b[0;36mcraw_and_write\u001b[0;34m(web_path_root, to_be_matched_list)\u001b[0m\n\u001b[1;32m      9\u001b[0m \u001b[0;34m\u001b[0m\u001b[0m\n\u001b[1;32m     10\u001b[0m     \u001b[0;32mfor\u001b[0m \u001b[0mi\u001b[0m \u001b[0;32min\u001b[0m \u001b[0mrange\u001b[0m\u001b[0;34m(\u001b[0m\u001b[0;36m25000\u001b[0m\u001b[0;34m)\u001b[0m\u001b[0;34m:\u001b[0m\u001b[0;34m\u001b[0m\u001b[0;34m\u001b[0m\u001b[0m\n\u001b[0;32m---> 11\u001b[0;31m         \u001b[0mtitle\u001b[0m\u001b[0;34m,\u001b[0m \u001b[0mbody\u001b[0m \u001b[0;34m=\u001b[0m \u001b[0mcraw_single\u001b[0m\u001b[0;34m(\u001b[0m\u001b[0;34mf'{web_path_root}/{i}.html'\u001b[0m\u001b[0;34m)\u001b[0m\u001b[0;34m\u001b[0m\u001b[0;34m\u001b[0m\u001b[0m\n\u001b[0m\u001b[1;32m     12\u001b[0m         \u001b[0;31m## try matching\u001b[0m\u001b[0;34m\u001b[0m\u001b[0;34m\u001b[0m\u001b[0;34m\u001b[0m\u001b[0m\n\u001b[1;32m     13\u001b[0m         \u001b[0;32mif\u001b[0m \u001b[0mtitle\u001b[0m\u001b[0;34m:\u001b[0m\u001b[0;34m\u001b[0m\u001b[0;34m\u001b[0m\u001b[0m\n",
      "\u001b[0;32m<ipython-input-14-3fe2d881cc08>\u001b[0m in \u001b[0;36mcraw_single\u001b[0;34m(web_path)\u001b[0m\n\u001b[1;32m      1\u001b[0m \u001b[0;32mdef\u001b[0m \u001b[0mcraw_single\u001b[0m\u001b[0;34m(\u001b[0m\u001b[0mweb_path\u001b[0m\u001b[0;34m)\u001b[0m\u001b[0;34m:\u001b[0m\u001b[0;34m\u001b[0m\u001b[0;34m\u001b[0m\u001b[0m\n\u001b[0;32m----> 2\u001b[0;31m     \u001b[0mr\u001b[0m \u001b[0;34m=\u001b[0m \u001b[0mrequests\u001b[0m\u001b[0;34m.\u001b[0m\u001b[0mget\u001b[0m\u001b[0;34m(\u001b[0m\u001b[0mweb_path\u001b[0m\u001b[0;34m)\u001b[0m\u001b[0;34m.\u001b[0m\u001b[0mtext\u001b[0m\u001b[0;34m.\u001b[0m\u001b[0mencode\u001b[0m\u001b[0;34m(\u001b[0m\u001b[0;34m'ISO-8859-1'\u001b[0m\u001b[0;34m)\u001b[0m\u001b[0;34m.\u001b[0m\u001b[0mdecode\u001b[0m\u001b[0;34m(\u001b[0m\u001b[0;34m'gbk'\u001b[0m\u001b[0;34m)\u001b[0m\u001b[0;34m\u001b[0m\u001b[0;34m\u001b[0m\u001b[0m\n\u001b[0m\u001b[1;32m      3\u001b[0m     \u001b[0mtitle\u001b[0m \u001b[0;34m=\u001b[0m \u001b[0mre\u001b[0m\u001b[0;34m.\u001b[0m\u001b[0mfindall\u001b[0m\u001b[0;34m(\u001b[0m\u001b[0;34mr'<div class=\"title\"><h1>(.*?)</h1></div>'\u001b[0m\u001b[0;34m,\u001b[0m\u001b[0mr\u001b[0m\u001b[0;34m)\u001b[0m\u001b[0;34m\u001b[0m\u001b[0;34m\u001b[0m\u001b[0m\n\u001b[1;32m      4\u001b[0m     \u001b[0;32mif\u001b[0m \u001b[0mlen\u001b[0m\u001b[0;34m(\u001b[0m\u001b[0mtitle\u001b[0m\u001b[0;34m)\u001b[0m \u001b[0;34m>\u001b[0m \u001b[0;36m0\u001b[0m\u001b[0;34m:\u001b[0m \u001b[0;31m## if not \"404 Not Found\" returned\u001b[0m\u001b[0;34m\u001b[0m\u001b[0;34m\u001b[0m\u001b[0m\n\u001b[1;32m      5\u001b[0m         \u001b[0mtitle\u001b[0m \u001b[0;34m=\u001b[0m \u001b[0mtitle\u001b[0m\u001b[0;34m[\u001b[0m\u001b[0;36m0\u001b[0m\u001b[0;34m]\u001b[0m\u001b[0;34m\u001b[0m\u001b[0;34m\u001b[0m\u001b[0m\n",
      "\u001b[0;32m~/opt/anaconda3/lib/python3.8/site-packages/requests/api.py\u001b[0m in \u001b[0;36mget\u001b[0;34m(url, params, **kwargs)\u001b[0m\n\u001b[1;32m     74\u001b[0m \u001b[0;34m\u001b[0m\u001b[0m\n\u001b[1;32m     75\u001b[0m     \u001b[0mkwargs\u001b[0m\u001b[0;34m.\u001b[0m\u001b[0msetdefault\u001b[0m\u001b[0;34m(\u001b[0m\u001b[0;34m'allow_redirects'\u001b[0m\u001b[0;34m,\u001b[0m \u001b[0;32mTrue\u001b[0m\u001b[0;34m)\u001b[0m\u001b[0;34m\u001b[0m\u001b[0;34m\u001b[0m\u001b[0m\n\u001b[0;32m---> 76\u001b[0;31m     \u001b[0;32mreturn\u001b[0m \u001b[0mrequest\u001b[0m\u001b[0;34m(\u001b[0m\u001b[0;34m'get'\u001b[0m\u001b[0;34m,\u001b[0m \u001b[0murl\u001b[0m\u001b[0;34m,\u001b[0m \u001b[0mparams\u001b[0m\u001b[0;34m=\u001b[0m\u001b[0mparams\u001b[0m\u001b[0;34m,\u001b[0m \u001b[0;34m**\u001b[0m\u001b[0mkwargs\u001b[0m\u001b[0;34m)\u001b[0m\u001b[0;34m\u001b[0m\u001b[0;34m\u001b[0m\u001b[0m\n\u001b[0m\u001b[1;32m     77\u001b[0m \u001b[0;34m\u001b[0m\u001b[0m\n\u001b[1;32m     78\u001b[0m \u001b[0;34m\u001b[0m\u001b[0m\n",
      "\u001b[0;32m~/opt/anaconda3/lib/python3.8/site-packages/requests/api.py\u001b[0m in \u001b[0;36mrequest\u001b[0;34m(method, url, **kwargs)\u001b[0m\n\u001b[1;32m     59\u001b[0m     \u001b[0;31m# cases, and look like a memory leak in others.\u001b[0m\u001b[0;34m\u001b[0m\u001b[0;34m\u001b[0m\u001b[0;34m\u001b[0m\u001b[0m\n\u001b[1;32m     60\u001b[0m     \u001b[0;32mwith\u001b[0m \u001b[0msessions\u001b[0m\u001b[0;34m.\u001b[0m\u001b[0mSession\u001b[0m\u001b[0;34m(\u001b[0m\u001b[0;34m)\u001b[0m \u001b[0;32mas\u001b[0m \u001b[0msession\u001b[0m\u001b[0;34m:\u001b[0m\u001b[0;34m\u001b[0m\u001b[0;34m\u001b[0m\u001b[0m\n\u001b[0;32m---> 61\u001b[0;31m         \u001b[0;32mreturn\u001b[0m \u001b[0msession\u001b[0m\u001b[0;34m.\u001b[0m\u001b[0mrequest\u001b[0m\u001b[0;34m(\u001b[0m\u001b[0mmethod\u001b[0m\u001b[0;34m=\u001b[0m\u001b[0mmethod\u001b[0m\u001b[0;34m,\u001b[0m \u001b[0murl\u001b[0m\u001b[0;34m=\u001b[0m\u001b[0murl\u001b[0m\u001b[0;34m,\u001b[0m \u001b[0;34m**\u001b[0m\u001b[0mkwargs\u001b[0m\u001b[0;34m)\u001b[0m\u001b[0;34m\u001b[0m\u001b[0;34m\u001b[0m\u001b[0m\n\u001b[0m\u001b[1;32m     62\u001b[0m \u001b[0;34m\u001b[0m\u001b[0m\n\u001b[1;32m     63\u001b[0m \u001b[0;34m\u001b[0m\u001b[0m\n",
      "\u001b[0;32m~/opt/anaconda3/lib/python3.8/site-packages/requests/sessions.py\u001b[0m in \u001b[0;36mrequest\u001b[0;34m(self, method, url, params, data, headers, cookies, files, auth, timeout, allow_redirects, proxies, hooks, stream, verify, cert, json)\u001b[0m\n\u001b[1;32m    540\u001b[0m         }\n\u001b[1;32m    541\u001b[0m         \u001b[0msend_kwargs\u001b[0m\u001b[0;34m.\u001b[0m\u001b[0mupdate\u001b[0m\u001b[0;34m(\u001b[0m\u001b[0msettings\u001b[0m\u001b[0;34m)\u001b[0m\u001b[0;34m\u001b[0m\u001b[0;34m\u001b[0m\u001b[0m\n\u001b[0;32m--> 542\u001b[0;31m         \u001b[0mresp\u001b[0m \u001b[0;34m=\u001b[0m \u001b[0mself\u001b[0m\u001b[0;34m.\u001b[0m\u001b[0msend\u001b[0m\u001b[0;34m(\u001b[0m\u001b[0mprep\u001b[0m\u001b[0;34m,\u001b[0m \u001b[0;34m**\u001b[0m\u001b[0msend_kwargs\u001b[0m\u001b[0;34m)\u001b[0m\u001b[0;34m\u001b[0m\u001b[0;34m\u001b[0m\u001b[0m\n\u001b[0m\u001b[1;32m    543\u001b[0m \u001b[0;34m\u001b[0m\u001b[0m\n\u001b[1;32m    544\u001b[0m         \u001b[0;32mreturn\u001b[0m \u001b[0mresp\u001b[0m\u001b[0;34m\u001b[0m\u001b[0;34m\u001b[0m\u001b[0m\n",
      "\u001b[0;32m~/opt/anaconda3/lib/python3.8/site-packages/requests/sessions.py\u001b[0m in \u001b[0;36msend\u001b[0;34m(self, request, **kwargs)\u001b[0m\n\u001b[1;32m    653\u001b[0m \u001b[0;34m\u001b[0m\u001b[0m\n\u001b[1;32m    654\u001b[0m         \u001b[0;31m# Send the request\u001b[0m\u001b[0;34m\u001b[0m\u001b[0;34m\u001b[0m\u001b[0;34m\u001b[0m\u001b[0m\n\u001b[0;32m--> 655\u001b[0;31m         \u001b[0mr\u001b[0m \u001b[0;34m=\u001b[0m \u001b[0madapter\u001b[0m\u001b[0;34m.\u001b[0m\u001b[0msend\u001b[0m\u001b[0;34m(\u001b[0m\u001b[0mrequest\u001b[0m\u001b[0;34m,\u001b[0m \u001b[0;34m**\u001b[0m\u001b[0mkwargs\u001b[0m\u001b[0;34m)\u001b[0m\u001b[0;34m\u001b[0m\u001b[0;34m\u001b[0m\u001b[0m\n\u001b[0m\u001b[1;32m    656\u001b[0m \u001b[0;34m\u001b[0m\u001b[0m\n\u001b[1;32m    657\u001b[0m         \u001b[0;31m# Total elapsed time of the request (approximately)\u001b[0m\u001b[0;34m\u001b[0m\u001b[0;34m\u001b[0m\u001b[0;34m\u001b[0m\u001b[0m\n",
      "\u001b[0;32m~/opt/anaconda3/lib/python3.8/site-packages/requests/adapters.py\u001b[0m in \u001b[0;36msend\u001b[0;34m(self, request, stream, timeout, verify, cert, proxies)\u001b[0m\n\u001b[1;32m    437\u001b[0m         \u001b[0;32mtry\u001b[0m\u001b[0;34m:\u001b[0m\u001b[0;34m\u001b[0m\u001b[0;34m\u001b[0m\u001b[0m\n\u001b[1;32m    438\u001b[0m             \u001b[0;32mif\u001b[0m \u001b[0;32mnot\u001b[0m \u001b[0mchunked\u001b[0m\u001b[0;34m:\u001b[0m\u001b[0;34m\u001b[0m\u001b[0;34m\u001b[0m\u001b[0m\n\u001b[0;32m--> 439\u001b[0;31m                 resp = conn.urlopen(\n\u001b[0m\u001b[1;32m    440\u001b[0m                     \u001b[0mmethod\u001b[0m\u001b[0;34m=\u001b[0m\u001b[0mrequest\u001b[0m\u001b[0;34m.\u001b[0m\u001b[0mmethod\u001b[0m\u001b[0;34m,\u001b[0m\u001b[0;34m\u001b[0m\u001b[0;34m\u001b[0m\u001b[0m\n\u001b[1;32m    441\u001b[0m                     \u001b[0murl\u001b[0m\u001b[0;34m=\u001b[0m\u001b[0murl\u001b[0m\u001b[0;34m,\u001b[0m\u001b[0;34m\u001b[0m\u001b[0;34m\u001b[0m\u001b[0m\n",
      "\u001b[0;32m~/opt/anaconda3/lib/python3.8/site-packages/urllib3/connectionpool.py\u001b[0m in \u001b[0;36murlopen\u001b[0;34m(self, method, url, body, headers, retries, redirect, assert_same_host, timeout, pool_timeout, release_conn, chunked, body_pos, **response_kw)\u001b[0m\n\u001b[1;32m    694\u001b[0m             )\n\u001b[1;32m    695\u001b[0m             \u001b[0;32mif\u001b[0m \u001b[0mis_new_proxy_conn\u001b[0m \u001b[0;32mand\u001b[0m \u001b[0mhttp_tunnel_required\u001b[0m\u001b[0;34m:\u001b[0m\u001b[0;34m\u001b[0m\u001b[0;34m\u001b[0m\u001b[0m\n\u001b[0;32m--> 696\u001b[0;31m                 \u001b[0mself\u001b[0m\u001b[0;34m.\u001b[0m\u001b[0m_prepare_proxy\u001b[0m\u001b[0;34m(\u001b[0m\u001b[0mconn\u001b[0m\u001b[0;34m)\u001b[0m\u001b[0;34m\u001b[0m\u001b[0;34m\u001b[0m\u001b[0m\n\u001b[0m\u001b[1;32m    697\u001b[0m \u001b[0;34m\u001b[0m\u001b[0m\n\u001b[1;32m    698\u001b[0m             \u001b[0;31m# Make the request on the httplib connection object.\u001b[0m\u001b[0;34m\u001b[0m\u001b[0;34m\u001b[0m\u001b[0;34m\u001b[0m\u001b[0m\n",
      "\u001b[0;32m~/opt/anaconda3/lib/python3.8/site-packages/urllib3/connectionpool.py\u001b[0m in \u001b[0;36m_prepare_proxy\u001b[0;34m(self, conn)\u001b[0m\n\u001b[1;32m    962\u001b[0m             \u001b[0mconn\u001b[0m\u001b[0;34m.\u001b[0m\u001b[0mtls_in_tls_required\u001b[0m \u001b[0;34m=\u001b[0m \u001b[0;32mTrue\u001b[0m\u001b[0;34m\u001b[0m\u001b[0;34m\u001b[0m\u001b[0m\n\u001b[1;32m    963\u001b[0m \u001b[0;34m\u001b[0m\u001b[0m\n\u001b[0;32m--> 964\u001b[0;31m         \u001b[0mconn\u001b[0m\u001b[0;34m.\u001b[0m\u001b[0mconnect\u001b[0m\u001b[0;34m(\u001b[0m\u001b[0;34m)\u001b[0m\u001b[0;34m\u001b[0m\u001b[0;34m\u001b[0m\u001b[0m\n\u001b[0m\u001b[1;32m    965\u001b[0m \u001b[0;34m\u001b[0m\u001b[0m\n\u001b[1;32m    966\u001b[0m     \u001b[0;32mdef\u001b[0m \u001b[0m_new_conn\u001b[0m\u001b[0;34m(\u001b[0m\u001b[0mself\u001b[0m\u001b[0;34m)\u001b[0m\u001b[0;34m:\u001b[0m\u001b[0;34m\u001b[0m\u001b[0;34m\u001b[0m\u001b[0m\n",
      "\u001b[0;32m~/opt/anaconda3/lib/python3.8/site-packages/urllib3/connection.py\u001b[0m in \u001b[0;36mconnect\u001b[0;34m(self)\u001b[0m\n\u001b[1;32m    409\u001b[0m             \u001b[0mcontext\u001b[0m\u001b[0;34m.\u001b[0m\u001b[0mload_default_certs\u001b[0m\u001b[0;34m(\u001b[0m\u001b[0;34m)\u001b[0m\u001b[0;34m\u001b[0m\u001b[0;34m\u001b[0m\u001b[0m\n\u001b[1;32m    410\u001b[0m \u001b[0;34m\u001b[0m\u001b[0m\n\u001b[0;32m--> 411\u001b[0;31m         self.sock = ssl_wrap_socket(\n\u001b[0m\u001b[1;32m    412\u001b[0m             \u001b[0msock\u001b[0m\u001b[0;34m=\u001b[0m\u001b[0mconn\u001b[0m\u001b[0;34m,\u001b[0m\u001b[0;34m\u001b[0m\u001b[0;34m\u001b[0m\u001b[0m\n\u001b[1;32m    413\u001b[0m             \u001b[0mkeyfile\u001b[0m\u001b[0;34m=\u001b[0m\u001b[0mself\u001b[0m\u001b[0;34m.\u001b[0m\u001b[0mkey_file\u001b[0m\u001b[0;34m,\u001b[0m\u001b[0;34m\u001b[0m\u001b[0;34m\u001b[0m\u001b[0m\n",
      "\u001b[0;32m~/opt/anaconda3/lib/python3.8/site-packages/urllib3/util/ssl_.py\u001b[0m in \u001b[0;36mssl_wrap_socket\u001b[0;34m(sock, keyfile, certfile, cert_reqs, ca_certs, server_hostname, ssl_version, ciphers, ssl_context, ca_cert_dir, key_password, ca_cert_data, tls_in_tls)\u001b[0m\n\u001b[1;32m    426\u001b[0m \u001b[0;34m\u001b[0m\u001b[0m\n\u001b[1;32m    427\u001b[0m     \u001b[0;32mif\u001b[0m \u001b[0msend_sni\u001b[0m\u001b[0;34m:\u001b[0m\u001b[0;34m\u001b[0m\u001b[0;34m\u001b[0m\u001b[0m\n\u001b[0;32m--> 428\u001b[0;31m         ssl_sock = _ssl_wrap_socket_impl(\n\u001b[0m\u001b[1;32m    429\u001b[0m             \u001b[0msock\u001b[0m\u001b[0;34m,\u001b[0m \u001b[0mcontext\u001b[0m\u001b[0;34m,\u001b[0m \u001b[0mtls_in_tls\u001b[0m\u001b[0;34m,\u001b[0m \u001b[0mserver_hostname\u001b[0m\u001b[0;34m=\u001b[0m\u001b[0mserver_hostname\u001b[0m\u001b[0;34m\u001b[0m\u001b[0;34m\u001b[0m\u001b[0m\n\u001b[1;32m    430\u001b[0m         )\n",
      "\u001b[0;32m~/opt/anaconda3/lib/python3.8/site-packages/urllib3/util/ssl_.py\u001b[0m in \u001b[0;36m_ssl_wrap_socket_impl\u001b[0;34m(sock, ssl_context, tls_in_tls, server_hostname)\u001b[0m\n\u001b[1;32m    470\u001b[0m \u001b[0;34m\u001b[0m\u001b[0m\n\u001b[1;32m    471\u001b[0m     \u001b[0;32mif\u001b[0m \u001b[0mserver_hostname\u001b[0m\u001b[0;34m:\u001b[0m\u001b[0;34m\u001b[0m\u001b[0;34m\u001b[0m\u001b[0m\n\u001b[0;32m--> 472\u001b[0;31m         \u001b[0;32mreturn\u001b[0m \u001b[0mssl_context\u001b[0m\u001b[0;34m.\u001b[0m\u001b[0mwrap_socket\u001b[0m\u001b[0;34m(\u001b[0m\u001b[0msock\u001b[0m\u001b[0;34m,\u001b[0m \u001b[0mserver_hostname\u001b[0m\u001b[0;34m=\u001b[0m\u001b[0mserver_hostname\u001b[0m\u001b[0;34m)\u001b[0m\u001b[0;34m\u001b[0m\u001b[0;34m\u001b[0m\u001b[0m\n\u001b[0m\u001b[1;32m    473\u001b[0m     \u001b[0;32melse\u001b[0m\u001b[0;34m:\u001b[0m\u001b[0;34m\u001b[0m\u001b[0;34m\u001b[0m\u001b[0m\n\u001b[1;32m    474\u001b[0m         \u001b[0;32mreturn\u001b[0m \u001b[0mssl_context\u001b[0m\u001b[0;34m.\u001b[0m\u001b[0mwrap_socket\u001b[0m\u001b[0;34m(\u001b[0m\u001b[0msock\u001b[0m\u001b[0;34m)\u001b[0m\u001b[0;34m\u001b[0m\u001b[0;34m\u001b[0m\u001b[0m\n",
      "\u001b[0;32m~/opt/anaconda3/lib/python3.8/ssl.py\u001b[0m in \u001b[0;36mwrap_socket\u001b[0;34m(self, sock, server_side, do_handshake_on_connect, suppress_ragged_eofs, server_hostname, session)\u001b[0m\n\u001b[1;32m    498\u001b[0m         \u001b[0;31m# SSLSocket class handles server_hostname encoding before it calls\u001b[0m\u001b[0;34m\u001b[0m\u001b[0;34m\u001b[0m\u001b[0;34m\u001b[0m\u001b[0m\n\u001b[1;32m    499\u001b[0m         \u001b[0;31m# ctx._wrap_socket()\u001b[0m\u001b[0;34m\u001b[0m\u001b[0;34m\u001b[0m\u001b[0;34m\u001b[0m\u001b[0m\n\u001b[0;32m--> 500\u001b[0;31m         return self.sslsocket_class._create(\n\u001b[0m\u001b[1;32m    501\u001b[0m             \u001b[0msock\u001b[0m\u001b[0;34m=\u001b[0m\u001b[0msock\u001b[0m\u001b[0;34m,\u001b[0m\u001b[0;34m\u001b[0m\u001b[0;34m\u001b[0m\u001b[0m\n\u001b[1;32m    502\u001b[0m             \u001b[0mserver_side\u001b[0m\u001b[0;34m=\u001b[0m\u001b[0mserver_side\u001b[0m\u001b[0;34m,\u001b[0m\u001b[0;34m\u001b[0m\u001b[0;34m\u001b[0m\u001b[0m\n",
      "\u001b[0;32m~/opt/anaconda3/lib/python3.8/ssl.py\u001b[0m in \u001b[0;36m_create\u001b[0;34m(cls, sock, server_side, do_handshake_on_connect, suppress_ragged_eofs, server_hostname, context, session)\u001b[0m\n\u001b[1;32m   1038\u001b[0m                         \u001b[0;31m# non-blocking\u001b[0m\u001b[0;34m\u001b[0m\u001b[0;34m\u001b[0m\u001b[0;34m\u001b[0m\u001b[0m\n\u001b[1;32m   1039\u001b[0m                         \u001b[0;32mraise\u001b[0m \u001b[0mValueError\u001b[0m\u001b[0;34m(\u001b[0m\u001b[0;34m\"do_handshake_on_connect should not be specified for non-blocking sockets\"\u001b[0m\u001b[0;34m)\u001b[0m\u001b[0;34m\u001b[0m\u001b[0;34m\u001b[0m\u001b[0m\n\u001b[0;32m-> 1040\u001b[0;31m                     \u001b[0mself\u001b[0m\u001b[0;34m.\u001b[0m\u001b[0mdo_handshake\u001b[0m\u001b[0;34m(\u001b[0m\u001b[0;34m)\u001b[0m\u001b[0;34m\u001b[0m\u001b[0;34m\u001b[0m\u001b[0m\n\u001b[0m\u001b[1;32m   1041\u001b[0m             \u001b[0;32mexcept\u001b[0m \u001b[0;34m(\u001b[0m\u001b[0mOSError\u001b[0m\u001b[0;34m,\u001b[0m \u001b[0mValueError\u001b[0m\u001b[0;34m)\u001b[0m\u001b[0;34m:\u001b[0m\u001b[0;34m\u001b[0m\u001b[0;34m\u001b[0m\u001b[0m\n\u001b[1;32m   1042\u001b[0m                 \u001b[0mself\u001b[0m\u001b[0;34m.\u001b[0m\u001b[0mclose\u001b[0m\u001b[0;34m(\u001b[0m\u001b[0;34m)\u001b[0m\u001b[0;34m\u001b[0m\u001b[0;34m\u001b[0m\u001b[0m\n",
      "\u001b[0;32m~/opt/anaconda3/lib/python3.8/ssl.py\u001b[0m in \u001b[0;36mdo_handshake\u001b[0;34m(self, block)\u001b[0m\n\u001b[1;32m   1307\u001b[0m             \u001b[0;32mif\u001b[0m \u001b[0mtimeout\u001b[0m \u001b[0;34m==\u001b[0m \u001b[0;36m0.0\u001b[0m \u001b[0;32mand\u001b[0m \u001b[0mblock\u001b[0m\u001b[0;34m:\u001b[0m\u001b[0;34m\u001b[0m\u001b[0;34m\u001b[0m\u001b[0m\n\u001b[1;32m   1308\u001b[0m                 \u001b[0mself\u001b[0m\u001b[0;34m.\u001b[0m\u001b[0msettimeout\u001b[0m\u001b[0;34m(\u001b[0m\u001b[0;32mNone\u001b[0m\u001b[0;34m)\u001b[0m\u001b[0;34m\u001b[0m\u001b[0;34m\u001b[0m\u001b[0m\n\u001b[0;32m-> 1309\u001b[0;31m             \u001b[0mself\u001b[0m\u001b[0;34m.\u001b[0m\u001b[0m_sslobj\u001b[0m\u001b[0;34m.\u001b[0m\u001b[0mdo_handshake\u001b[0m\u001b[0;34m(\u001b[0m\u001b[0;34m)\u001b[0m\u001b[0;34m\u001b[0m\u001b[0;34m\u001b[0m\u001b[0m\n\u001b[0m\u001b[1;32m   1310\u001b[0m         \u001b[0;32mfinally\u001b[0m\u001b[0;34m:\u001b[0m\u001b[0;34m\u001b[0m\u001b[0;34m\u001b[0m\u001b[0m\n\u001b[1;32m   1311\u001b[0m             \u001b[0mself\u001b[0m\u001b[0;34m.\u001b[0m\u001b[0msettimeout\u001b[0m\u001b[0;34m(\u001b[0m\u001b[0mtimeout\u001b[0m\u001b[0;34m)\u001b[0m\u001b[0;34m\u001b[0m\u001b[0;34m\u001b[0m\u001b[0m\n",
      "\u001b[0;31mKeyboardInterrupt\u001b[0m: "
     ]
    }
   ],
   "source": [
    "## main ##\n",
    "count_dict = craw_and_write('https://www.ahmhxc.com/gongzuobaogao/')\n",
    "All_data.to_excel('./WITH_GOV_REPORT.xlsx')\n",
    "with open('./gov_report.json','w') as g:\n",
    "    json.dump(count_dict)"
   ]
  },
  {
   "cell_type": "code",
   "execution_count": null,
   "metadata": {},
   "outputs": [
    {
     "data": {
      "text/plain": [
       "['（新疆）和田县2017年国民经济和社会发展统计公报',\n",
       " '和田县2017年国民经济和社会发展统计  公 报  2017年，全县各部门在以习近平同志为核心的党中央坚强领导下，不断增强“四个意识”，深入贯彻落实党的十八大和十八届三中、四中、五中、六中、七中全会精神，认真学习贯彻党的十九大精神，以习近平新时代中国特色社会主义思想为指导。在自治区党委、人民政府的亲切关怀和地委行署的坚强领导下，在北京市的大力援助下，和田县委、人民政府团结带领全县各族干部群众，深入学习贯彻习近平总书记系列重要讲话精神，坚持稳中求进工作总基调，坚定不移贯彻新发展理念，坚持以提高发展质量和效益为中心，统筹推进稳增长、促改革、调结构、惠民生、防风险各项工作，围绕总目标、适应新常态，科学分析和田县2017年经济发展现状，完善发展思路，经济运行稳中有进、稳中向好、好于预期，经济社会保持平稳健康发展。  一、综 合  初步核算，2017年和田县实现生产总值(GDP)342469万元，同比增长9.2%。分三次产业来看，第一产业完成86290万元，同比增长2.7%;第二产业完成83217万元，同比增长7.4%;第三产业完成172962万元，同比增长16.1%。三次产业占生产总值的比重分别为25.2%、24.3%、50.5%。按户籍年平均常住人口数计算，人均生产总值9657元。 二、农林牧渔业  2017年度全县农林林渔服务业(现价)总产值达233678.5万元，其中：种植业总产值170225.9万元，林业总产值1797.87万元，畜牧业总产值58633.47万元，渔业总产值1412.25万元。现价增加值达98487.84万元。  农林林渔服务业(可比价)总产值达238915.8万元，种植业总产值176106.6万元，林业总产值1797.87万元，畜牧业总产值57997.19万元，渔业总产值1391.9万元。可比价增加值达100076.7万元，可比价增加值发展速度2.6%。  ——种植业生产  (一)粮食：2017年粮食面积41.42万亩，同比增长0.84%，粮食产量15.98万吨，同比增长3.64%，单产386公斤，同比增长0.64%;其中：夏粮面积24.4万亩，同比增长2.5%，夏粮产量达9.18万吨，同比增长2.9%，粮食单产376公斤，同比增长0.4%;玉米面积13.42万亩，同比下降1.46%，产量达5.14万吨，同比下降0.6%，单产达383公斤，水稻面积3.55万亩，同比下降2.25%，产量达1.66万吨，同比下降0.07%，单产达468公斤。  (二)棉花：棉花面积8.45万亩，同比增长12.2%，产量达0.85万吨，同比增长18.02%，单产达100公斤。  (三)经济作物：蔬菜面积4.16万亩，蔬菜产量达4.63万吨、油料面积0.87万亩，产量0.078万吨、薯类0.13万亩，产量0.33万吨、小茴香面积0.54万亩，产量0.036万吨。  ——林业生产  林果业立足资源优势发展特色林果经济，初步实现由重规模向重管理、由粗放管理向集约经营的重大转变;今年和田县“再造一个绿洲”生态工程，全县森林面积43907.41公顷，森林覆盖率1.07%,全县已完成造林面积81270亩，增长57.1%。其中;经济林25128亩，防护林5882亩。农民对传统的种植核桃、葡萄、红枣、杏的积极更高，因价格的因素，水果和干果的收入给农民带来了可观的收入，从产业化向市场发展，也拉动了全县经济。核桃产量达55620吨，同比增长7.4%。  ——畜牧业生产  2017年全县牲畜存栏70.35万头只，能繁殖母畜存栏49.64万头只，繁殖成活畜43.47万头只，牲畜出栏46.03万头只(其中商品出栏36.55万头只)，家禽存栏124.72万羽，家禽出栏350.17万羽，产肉14580吨、产奶6720吨、产蛋5337吨。  \\xad—— 渔业生产  2017年由于名优养殖项目、先进养殖技术的积极引进，改变了传统的养殖模式，淡水大中型水面开发力度加大，生态养殖、流水养鱼和立体养殖进一步推广，水产品产量达826吨，同比增长2.0%。  三、农牧民人均纯收入 和田县2017年全年度农村经济总收入23.05亿元，增长6.0%。其中：庭院经济收入3.84亿元，增长6.7%。农牧民人均纯收入8148.23元，较上年同期增加806.23元，增长11.0%。其中：第一产业人均收入4994.43元，同比增加47.23元，同比增长1.0%，占农牧民人均收入的61.29%。第二产业人均收入553.24元，同比增加61.48元，同比增长12.5%，占农牧民人均收入的6.8%。第三产业人均收入577.44元，同比增加102.65元，同比增长21.6%，占农牧民人均收入的7.1%;人均劳务收入达1633.08元,同比增加370.1元，同比增长29.3%，占农牧民人均收入的20.0%;农民从集体再分配人均收入为390.04元,同比增加224.77元，同比增长36%，占农牧民人均收入的4.8%。人均庭院经济收入1082.33元，比上年增加34.1元，增长3.3%，占农牧民人均收入的13.3%。  四、工业和建筑业  全县工业企业完成产值76459.52万元，同比增长10.7%，累计完成工业销售产值68243.69万元，坦白增长1.4%。(其中：规模以上工业累计完成工业产值45232.31万元，同比下降6.6%，累计完成工业销售产值44659.19万元，同比下降5.2%。)。其中:重工业完成产值63762.4万元,占83.4%，同比增长10.5%;轻工业完成产值12697.1万元,占16.6%，同比增长11.7%，股份制企业总产值62883.2万元，占82.2%，同比增长8.9%。工业产品销售率达89.3%。全年实现发电量126447.84万度，同比增长1.3%，原煤产量16.1万吨，同比下降1.1%，生产砖17946万块，同比增长97.6%，水泥产量达65.29万吨，同比下降13.0%。全年实现建筑业增加值41486万元，同比增长7.7%。房屋建筑施工面积127.29万平方米，同比增长23.9%，竣工面积81.27万平方米。  实施安居工程：全年建成安居富民房12450户(其中：一般户3190户，四类人员户9260户)，投入资金40575.5万元;公租房909套(驻村干部周转房33套)。 五、固定资产投资  全社会固定资产投资额完成541913万元，同比增长41.7%;从行业分布来看：第一产业完成投资42637万元，同比下降39.4%;第二产业完成投资91661万元，同比下降32.9%;第三产业完成投资407615万元，同比增长135.6%。投资有力地拉动了全县经济持续快速增长。 六、社会消费品零售额  全县实现社会消费品零售总额25864.6万元，同比增长10.7%。其中:城镇实现525万元，同比增长9.2%;乡村实现25340万元，同比增长10.7%。从行业看:批发业实现商品销售额31927.1万元，同比增长11.8%;零售业实现商品销售额19756.9万元，同比增长11.3%;餐饮业实现营业额7551.8万元，同比增长12.1%，住宿业实现营业额277.8万元，同比增长14.0%。 七、招商引资工作  2017年全县实施新建续建招商引资项目27个，项目投资额达12.25亿元，同比增长61.6%，完成全年招商引资任务9.5亿元的128.95%。区内外新执行项目15个，实际到位资金8.62亿元，同比增长49.4%;续建项目11个，实到资金3.63亿元，同比增长100.5%。全年创造就业岗位实现就业1579人。  八、旅游业  2017年全县旅游业发展势头良好，全年共接待游客11万人/次;实现旅游总消费1.87亿元。全县有国家4A级景区1家，3A级景区2家;自治区4星级农家乐2家，自治区3星级农家乐4家。会同新疆原创规划院对全县12个乡镇旅游资源进行实地踏勘，完成了“和田县旅游发展总体规划”初评修订工作。  九、财政、金融  2017年地方财政预算收入累计完成21525万元，比上年同期的18308万元增收3217万元，同比增长17.6%，完成年初预算21508万元的100.1%。其中：税收收入累计完成11539万元，比上年同期11494万元增收45万元，同比增长0.4%，完成年初预算数15250万元的75.7%;非税收收入累计完成9986万元，比上年同期6814万元增收3172万元，同比增长46.6%，完成年初预算6258万元的159.6%。政府性基金收入完成2253万元，较上年同期1001万元增收1252万元，同比增长125.1%，完成年初预算1900万元的118.6%。全年我县完成地方财政支出444170万元，完成年初预算支出数的214.6%，比上年同期301280万元增支142890万元，增支47.4%。其中：公共财政预算支出440426万元，完成年初预算数的214,8%，比上年同期的299502万元增支140924万元，同比增长47.1%;政府性基金支出3744万元，比上年同期的1778万元增支1966万元，同比增长110.6%，完成年初预算支出数的197.1%。  截至2017年和田县农村信用合作联社金融机构人民币各项存款余额达312424.29万元，比上年末增长21.79%。其中：城乡居民储蓄存款余额达 111503.42万元，同比增长19.15%;企业存款余额达200920.87万元，同比增长23.30%。各项贷款余额达227727.37万元，同比增长31.54%。全年金融机构现金收入60576.33万元，同比减少23.11%;现金支出83190.78万元，同比减少39.25%;货币净回笼55949万元(2017年年末货币净投放为：57858万元)。  十、教育  全县各级各类学校有323所，其中幼儿园180所、完全中学1所、高级中学2所、职业技术学校1所。义务教育阶段学校139所，小学117所、初中22所(初级中学13所、九年一贯制学校9所)、教学点15所。  全县各级各类教学班级有2689个，其中：幼儿园数(学前班)971个、小学1230个、初中353个、高中135个，职业高中设了15个专业班。  全县在校生为103074名，其中：在园幼儿数37916名、小学在校生数42732名、初中在校生数14475名、普通高中在校生数6205名、职业高中在校生数1746名。  全县小学适龄儿童总数40125名，已入学人数40028名、入学率100%，初中适龄少年总数14586名，已入学人数14942名，入学率102.8%，残疾儿童少年总数187名，已入学179名入学率95.7%，小学巩固率：105.8%，初中巩固率：101.6%。  全县教职工总人数为4941名(少数民族教师3996名)，专任教师人数为4551名(其中少数民族教师3631名)，幼儿园教职工数818名(专任教师数636，其中少数民族教师442)少数民族教师数612名。小学教职工数2150名(专任教师数1988，其中少数民族教师数1605)，少数民族教师数1759名。中学教职工数1380名(专任教师数1349，其中少数民族教师数1137)，少数民族教师数1166名。高中教职工数593名(专任教师数578，其中少数民族教师数447)，少数民族教师数459名。  职业高中教职工数92名，专人教师数87名。  全县各级各类学校占地面积3149671.9㎡，其中幼儿园684762.41㎡ 、小学1458464.21㎡、初中650168.28㎡、普通高中317610㎡、职业高中38667㎡，校舍建筑总面积有844662.61㎡，其中幼儿园217932.71㎡ 、小学237608.61㎡、初中202531.48㎡、高中161164.81㎡、职业高中25425㎡。十一、文化、体育和卫生  文化体育广播影视局下设广播电视台、文工团、文化馆(图书馆)、12个乡(镇)文化站等机构。2017年文广局现有在编人员111人，聘用村村通管理人员12人，电影放映员9人，共有党员35人。图书馆现有藏书24955册，有1台流动图书车和1台流动文化宣传车，有20台电脑免费为广大读者提供网上交流等服务。和田县广播台现开办维吾尔语调频广播频率为99.2兆赫，调频维语广播1套(汉语调频广播频率为97.4兆赫，汉语广播2017年停播)，每天同步播出时间为16小时。维语广播覆盖范围在100公里左右，全县本地广播信号覆盖率为95%。和田县电视台现开办电视节目2套(维、汉语各1套)，每天播出时间为17小时，数字有线内2套节目，数字无线传输目前2套维语节目。和田县农村电影服务站现有编制4人，有农民放映员9人，无电影公司，农村公益性电影放映2563场次以上。文工团设团长1人，现有在编人员48人，聘用人员12人，下乡开展各类文艺演出155余场次。和田县共登录不可移动文物35 处，新申报米提孜麦西来甫等非遗项目16个。目前，和田县有作家协会、书法协会、美术协会、摄影协会、民间艺术协会、京剧协会、电视艺术协会、音乐舞蹈协会、健身舞协会等文艺协会9个，协会成员131人。现有各类文化经营单位69家，其中：网吧8家、游戏厅4家、音像店4家、打字复印店30家、民营书店1家、台球室6家、棋牌室5家、营业性演出2家,从业人员65余人。  年末全县共有各类卫生医疗机构18所，其中：县级(综合)医院1所，维吾尔医院1所，疾病预防控制中心1所，卫生监督机构1所，妇幼保健机构1所，乡镇卫生院13所。编制人数793人(其中在编人数740人)，卫生机构拥有编制床位964张，实有床位1408张(其中：县级医院449张，实有510张;乡镇卫生院515张，实有898张)。城乡医疗卫生专业技术人才队伍建设不断加强，全县卫生技术人员652人，其中执业医师(含执业助理医师)297人，注册护士(师)232人，其他卫生技术人员88人。  共有民营医院3家，在职人员360 人，共有医师95人，护士139人，药师14人，编制床位298张，实际开放300张。  十一、人口与环境 据县公安局统计，年末全县户籍总人口35.69万人，比上年末增加4498人，同比增长1.3%(其中：男性18.14万人，女性17.55万人)。其中：农业人口34.22万人，同比增长1.3%，非农业人口1.47万人，同比减少0.43%。汉族0.22万人，同比减少1.1%，维吾尔族35.44万人，同比增长1.3%，其他少数民族0.04万人。  据城乡一体化住户调查，预计全年和田县城镇居民人均可支配收入26652元，同比增长8.7%。农牧民人均纯收入8148.32元，增长11.0%。  十二、劳动就业和社会保障  年末全县从业人员达14004人，比上年增加858人，同比增长6.5%，从业人员工资总额8.57亿元，同比增长5.8%，从业人员年平均工资64568元，同比增长2.5%(其中：在岗职工年平均工资69603元，同比增长10.4%)。  从行业分布来看：第一产业年末从业人员110人;第二产业年末从业人员278人;第三产业年末从业人员13616人。  全县实现就业再就业2644人，完成年度任务的101.69%;累计转移农村劳动力82130人次，本地区内转移44170人次，疆内转移32078人次(六个一批转移就业2560人)，疆外转移5882人次(其中劳务经纪人带动务工经商3392人)，政府有组织转移到内地企业就业76人，劳务派遣机构组织转移就业540人;劳务创收3.58亿元，同比增长9.8%;农牧民人均劳务收入4370.9元，同比增长281.6%。  全年全县“七项”保险累计参保人数达21.37万人，其中：参加基本养老保险14248人，参加城镇职工基本医疗保险12491人，参保率为100%;城镇居民基本医疗保险7480人，参保率为100%;失业保险参保人数达7914人，参保率为98%;工伤保险参保人数8340人，参保率为98%;生育保险参保人数9155人，参保率为100%;城乡居民社会养老保险参保人数达154044人，参保率为100%;基本实现社会养老保险城乡全覆盖。  注： 1.本公报中数据均为初步统计数。  2.地区生产总值、各产业增加值绝对数按现价计算，增长速度按不变价格计算。规模以上工业是指年主营业务收入(产品销售收入)500万元以上的工业法人企业。  3.2017年末人口数为公安部门户籍人口数。  4.旅游、招商引资、金融保险、教育、文化、卫生、体育、环境等方面数据为有关部门提供。  5.核算数据以地区年鉴反馈数据为准。  和田县统计局  二○一八年七月二十日']"
      ]
     },
     "execution_count": 280,
     "metadata": {},
     "output_type": "execute_result"
    }
   ],
   "source": []
  },
  {
   "cell_type": "code",
   "execution_count": null,
   "metadata": {},
   "outputs": [
    {
     "data": {
      "text/plain": [
       "Index([(2013, '卢氏'), (2014, '卢氏'), (2015, '卢氏'), (2016, '卢氏'), (2017, '卢氏'),\n",
       "       (2018, '卢氏'), (2019, '卢氏'), (2013, '上饶'), (2014, '上饶'), (2015, '上饶'),\n",
       "       ...\n",
       "       (2017, '龙江'), (2018, '龙江'), (2019, '龙江'), (2013, '龙井'), (2014, '龙井'),\n",
       "       (2015, '龙井'), (2016, '龙井'), (2017, '龙井'), (2018, '龙井'), (2019, '龙井')],\n",
       "      dtype='object', name='index', length=5824)"
      ]
     },
     "execution_count": 265,
     "metadata": {},
     "output_type": "execute_result"
    }
   ],
   "source": [
    "All_data.index"
   ]
  },
  {
   "cell_type": "code",
   "execution_count": null,
   "metadata": {},
   "outputs": [
    {
     "data": {
      "text/plain": [
       "'赤峰市2020年  国民经济和社会发展统计公报[1]  赤峰市统计局  (2021年3月26日)  2020年，面对严峻复杂的经济形势、艰巨繁重的改革发展稳定任务，特别是新冠肺炎疫情的严重冲击，市委、市政府坚持以习近平新时代中国特色社会主义思想为指导，全面贯彻党的十九大和十九届二中、三中、四中、五中全会精神，按照自治区党委、政府工作部署，扎实做好“六稳”工作，全面落实“六保”任务，统筹推进常态化疫情防控和经济社会发展取得显著成效，全市经济实现回稳向好，社会大局保持和谐稳定，为“十四五”良好开局打下坚实基础。  一、综合  初步核算，全年地区生产总值[2]1763.6亿元，按可比价计算，比上年增长1.4%。其中，第一产业增加值346.4亿元，增长0.8%;第二产业增加值550亿元，增长6.4%;第三产业增加值867.2亿元，下降1.4%。三次产业比例为19.6:31.2:49.2。  全年城镇新增就业人数2.4万人，比上年减少0.2万人。失业人员再就业1.1万人，农村牧区劳动力转移就业人口69.5万人次。年末城镇登记失业率4.08%，比上年提高0.01个百分点。  全年居民消费价格比上年上涨2%。其中，消费品价格上涨3.1%，服务价格下降0.3%。商品零售价格上涨1.3%，工业生产者出厂价格下降0.3%。  表12020年居民消费价格比上年涨跌幅度  指 标  比上年增长（%）  居民消费价格  2.0  其中：食品烟酒  6.7  其中：粮食  -0.1  鲜菜  10.4  畜肉  28.1  水产品  -7.1  蛋  -18.1  鲜瓜果  -1.8  衣着  0.9  居住[3]  -0.7  生活用品及服务  0.0  交通和通信  -1.9  教育文化和娱乐  0.6  医疗保健  0.1  其他用品和服务  1.9  二、农牧业  全年农作物总播种面积142.2万公顷，比上年增长0.3%。其中，粮食作物播种面积111.2万公顷，增长0.7%;经济作物播种面积31万公顷，下降1%。粮食总产量611.7万吨，比上年增长1.1%。经济作物中，油料产量17.3万吨，下降15.6%;甜菜产量197.9万吨，增长10.5%;蔬菜及食用菌产量324万吨，下降2.1%;水果产量34.5万吨，下降0.5%。'"
      ]
     },
     "execution_count": 188,
     "metadata": {},
     "output_type": "execute_result"
    }
   ],
   "source": [
    "d[0][0].values[np.argmax([len(item) for item in d[0][0].values])]"
   ]
  },
  {
   "cell_type": "code",
   "execution_count": null,
   "metadata": {},
   "outputs": [],
   "source": [
    "'''\n",
    "政府工作报告中可以查到：\n",
    "1.城镇居民人均可支配收入\n",
    "2.农村居民人均可支配收入\n",
    "3.地区生产总值\n",
    "4.固定资产投资\n",
    "5.社会销售品零售总额\n",
    "\n",
    "国民经济和社会发展统计公报\n",
    "1.年末总人口（户籍）\n",
    "2.财政支出\n",
    "3.普通小学在校生\n",
    "4. 医院、卫生院床位数\n",
    "5.农村用电量\n",
    "'''"
   ]
  },
  {
   "cell_type": "code",
   "execution_count": null,
   "metadata": {},
   "outputs": [
    {
     "data": {
      "text/plain": [
       "0"
      ]
     },
     "execution_count": 136,
     "metadata": {},
     "output_type": "execute_result"
    }
   ],
   "source": [
    "len(d.split(' ')[1])"
   ]
  },
  {
   "cell_type": "code",
   "execution_count": null,
   "metadata": {},
   "outputs": [],
   "source": [
    "d = pd.read_html('https://www.ahmhxc.com/tongjigongbao/21204.html',flavor='bs4')[0][0][0]\n"
   ]
  },
  {
   "cell_type": "code",
   "execution_count": null,
   "metadata": {},
   "outputs": [
    {
     "data": {
      "text/plain": [
       "['湘潭县2020年国民经济和社会发展统计公报',\n",
       " '',\n",
       " '2020年是极不平凡的一年。面对国内外形势的深刻复杂变化和新冠肺炎疫情的冲击，全县上下在县委、县政府的坚强领导下，坚持以习近平新时代中国特色社会主义思想为指导，认真贯彻习近平总书记考察湖南重要讲话指示精神，全面落实党中央、国务院、省委、省政府和市委、市政府各项决策部署，坚持稳中求进工作总基调，统筹疫情防控和经济社会发展，扎实做好“六稳”工作，全面落实“六保”任务，继续实施“强工惠农”发展战略，开展“五大竞赛”，着力推动县域高质量发展。2020年，全县经济运行呈增速稳步回升、结构持续优化、质效不断改善的态势。',\n",
       " '',\n",
       " '一、综合',\n",
       " '',\n",
       " '初步核算，全年实现地区生产总值501.0亿元，增长3.7%。其中，第一产业增加值68.6亿元，增长3.7%;第二产业增加值268.9亿元，增长4.4%;第三产业增加值163.5亿元，增长2.2%。三次产业结构比为13.7:53.7:32.6。',\n",
       " '',\n",
       " '二、农业',\n",
       " '',\n",
       " '全年实现农林牧渔业总产值119.5亿元，增长3.8%。全县粮食播种面积83.6千公顷，下降2.9%，粮食总产量60.65万吨，下降2.7%;蔬菜播种面积20.6千公顷，增长3.5%，蔬菜产量64.41万吨，增长4.5%;油料播种面积13.1千公顷，增长18.4%，油料产量2.2万吨，增长18.4%。全年猪牛羊禽肉产量7.2万吨，下降3.9%。其中，猪肉产量7万吨，下降4.3%。禽蛋产量3.0万吨，增长20.3%。水产品产量4.3万吨，增长12.1%。年末出栏生猪96.9万头，下降3.8%;出栏牛1.2万头，增长35.3%;出栏羊6.5万头，增长20.6%。',\n",
       " '',\n",
       " '全年水利工程投入资金4.6亿元，开工各类水利工程7500处，完成水利工程土方石230万立方米。新增农田有效灌溉面积500公顷，新增节水灌溉面积660公顷。全县年末农业机械总动力达147.1万千瓦。',\n",
       " '',\n",
       " '三、工业和建筑业',\n",
       " '',\n",
       " '全年完成规模工业增加值203.4亿元，增长3.4%，其中天易示范区完成规模工业增加值166.7亿元，增长3.8%，占全县规模工业增加值的比重为82.0%。全县规模工业企业实现主营业务收入621.8亿元，下降1.3%，实现利润总额22.8亿元，增长0.3%。',\n",
       " '',\n",
       " '全年资质以上总承包和专业承包建筑业实现总产值72.7亿元，增长16.0%。全年全社会建筑业增加值46.1亿元，增长8.2%。房屋建筑施工面积302.4万平方米，下降5.0%，其中新开工面积145.9万平方米，下降4.9%;房屋建筑竣工面积180.6万平方米，增长4.6%。',\n",
       " '',\n",
       " '四、服务业',\n",
       " '',\n",
       " '全年批发和零售业增加值24.3亿元，增长3.3%;交通运输、仓储和邮政业增加值15.0亿元，增长1.7%;住宿和餐饮业增加值3.9亿元，下降6.5%;金融业增加值16.9亿元，增长5.3%;房地产业增加值27.7亿元，下降6.0%;信息传输、软件和信息技术服务业增加值1.4亿元，增长21.7%;租赁和商务服务业增加值8.8亿元，增长2.2%;文化、体育和娱乐业增加值4.0亿元，增长3.8%。全年规模以上服务业企业实现营业收入17.9亿元，增长18.9%。',\n",
       " '',\n",
       " '全年货物周转量177331万吨公里，下降15.3%。其中，公路周转量135906万吨公里，下降16.7%;水运周转量41425万吨，增长10.0%。旅客周转量992.8万人公里，下降28.0%。其中，公路周转量919.2万人公里，下降65.0%;水运周转量73.6万人公里，下降8.0%。',\n",
       " '',\n",
       " '年末公路通车里程2552公里，增长0.1%。其中，高速公路通车里程68公里。完成自然村通水泥(沥青)路415公里、拓宽农村公路47公里、提质改造107国道8公里、渡改桥2座。湘莲大道三期、云龙东路、青山大道、白马公路、青山河石鼓段河堤加固等公路建设稳步推进，许广高速杨嘉桥互通-S325公路建成通车投入使用。',\n",
       " '',\n",
       " '年末全县A级景区5家，其中4A级景区1家。星级乡村旅游区(点)14家。全年接待游客1106.9万人次，下降3.3%，实现旅游综合收入96.1亿元，增长3.4%;其中国内旅游收入96.1亿元，增长3.9%。',\n",
       " '',\n",
       " '五、固定资产投资',\n",
       " '',\n",
       " '全年固定资产投资增长10.3%。其中，产业投资196.9亿元，增长13.9%;工业投资138.6亿元，增长9.6%;高新技术产业投资21.8亿元，增长17.4%。',\n",
       " '',\n",
       " '房地产开发投资24.5亿元，下降35.6%。全年商品房销售面积73.2万平方米，下降31.0%，其中住宅销售面积64.6万平方米，下降27.6%。商品房销售额38.08亿元，下降36.3%，其中住宅销售额32.9亿元，下降27.5%。年末商品房待售面积0.44万平方米，下降63.7%。',\n",
       " '',\n",
       " '六、国内贸易',\n",
       " '',\n",
       " '全年实现社会消费品零售总额108.4亿元，下降2.4%，其中限额以上法人批发零售、住宿餐饮企业实现零售额21.9亿元，增长19.0%。',\n",
       " '',\n",
       " '七、对外贸易',\n",
       " '',\n",
       " '全年进出口总额27970万美元，增长27.2%。其中，进口总额4612万美元;出口总额23358万美元。',\n",
       " '',\n",
       " '全县共引进新项目117个，其中过亿元项目17个，引进500强企业3个，总部经济项目3个。实际引进境内省外资金89.7亿元，增长33.1%，实际利用外资17658万美元，增长17.3%。',\n",
       " '',\n",
       " '八、财政和金融',\n",
       " '',\n",
       " '全年完成财政总收入262640万元，下降8.7%。其中，税收收入199728万元，下降10.3%，占财政总收入的比重为76.1%。一般公共预算支出588607万元，下降7.8%。其中，科学技术支出16858万元，增长55.4%;公共安全支出21283万元，增长23.0%;农林水支出107434万元，增长9.7%。',\n",
       " '',\n",
       " '年末全县金融机构本外币各项存款余额480.4亿元，增长5.4%;年末金融机构本外币各项贷款余额419.9亿元，增长16.4%。年末湖南股权交易所股改板挂牌企业28家，比去年新增8家。',\n",
       " '',\n",
       " '九、教育和科学技术',\n",
       " '',\n",
       " '年末有中等职业教育学校5所，招生人数1887人，在校学生5033人，毕业生1424人，教职工416人。普通高中9所，招生人数5731人，在校学生17372人，毕业生6204人，教职工1611人。初中学校60所，招生人数9028人，在校学生27920人，毕业生9922人，教职工2614人。普通小学133所，招生人数9107人，在校学生49970人，毕业人数6820人，教职工2583人。特殊教育学校1所，招生人数11人，在校学生67人，毕业人数28人，教职工15人。幼儿园在园幼儿22522人。小学适龄儿童入学率100%，小学毕业生升学率100%，高中阶段教育毛入学率均为98.61%。落实义务教育保障资金10023.8万元资助义务阶段学生77890人;发放普通高中国家助学金522.4万元，资助普通高中学生4806人;发放中职国家助学金154.4万元，资助中职学生1544人次;落实中职免学费资金1096.4万元，资助中职学生9137人次。']"
      ]
     },
     "execution_count": 137,
     "metadata": {},
     "output_type": "execute_result"
    }
   ],
   "source": [
    "d.split(' ')"
   ]
  },
  {
   "cell_type": "code",
   "execution_count": null,
   "metadata": {},
   "outputs": [],
   "source": []
  }
 ],
 "metadata": {
  "interpreter": {
   "hash": "31f2aee4e71d21fbe5cf8b01ff0e069b9275f58929596ceb00d14d90e3e16cd6"
  },
  "kernelspec": {
   "display_name": "Python 3.6.9 64-bit",
   "language": "python",
   "name": "python3"
  },
  "language_info": {
   "codemirror_mode": {
    "name": "ipython",
    "version": 3
   },
   "file_extension": ".py",
   "mimetype": "text/x-python",
   "name": "python",
   "nbconvert_exporter": "python",
   "pygments_lexer": "ipython3",
   "version": "3.8.8"
  },
  "orig_nbformat": 4
 },
 "nbformat": 4,
 "nbformat_minor": 2
}
